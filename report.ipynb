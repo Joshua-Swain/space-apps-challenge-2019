{
 "cells": [
  {
   "cell_type": "markdown",
   "metadata": {},
   "source": [
    "# Identify Parasitic Magnetic Fields"
   ]
  },
  {
   "cell_type": "markdown",
   "metadata": {},
   "source": [
    "## Import Data"
   ]
  },
  {
   "cell_type": "code",
   "execution_count": 2,
   "metadata": {},
   "outputs": [],
   "source": [
    "# dependencies\n",
    "import numpy as np\n",
    "import pandas as pd\n",
    "import io, os\n",
    "import matplotlib.pyplot as plt"
   ]
  },
  {
   "cell_type": "markdown",
   "metadata": {},
   "source": [
    "## Preprocessing"
   ]
  },
  {
   "cell_type": "code",
   "execution_count": 21,
   "metadata": {},
   "outputs": [
    {
     "data": {
      "text/plain": [
       "994.5402502747703"
      ]
     },
     "execution_count": 21,
     "metadata": {},
     "output_type": "execute_result"
    }
   ],
   "source": [
    "#\n",
    "# Returns haversine distance between two sites\n",
    "# site_1: tuple --> (long_1, lat_1)\n",
    "# site_2: tuple --> (long_2, lat_2)\n",
    "#\n",
    "def haversine(site_1, site_2):\n",
    "    long_1, lat_1, long_2, lat_2 = np.radians((site_1[0], site_1[1], site_2[0], site_2[1])) # convert from degrees to radians\n",
    "    radius_of_earth = 6378.1  # In km\n",
    "    lat_delta = lat_2 - lat_1\n",
    "    lon_delta = long_2 - long_1\n",
    "    d = np.sin(lat_delta*0.5)**2 + np.cos(lat_1) * np.cos(lat_2) * np.sin(lon_delta*0.5)**2\n",
    "    haversine_value = 2 * radius_of_earth * np.arcsin(np.sqrt(d))\n",
    "    \n",
    "    return haversine_value\n",
    "\n",
    "# example usage: haversine((-94.21, 57.71),(-111.11, 58.77))\n",
    "# example usage: haversine(sites[0], sites[1])"
   ]
  },
  {
   "cell_type": "code",
   "execution_count": 52,
   "metadata": {},
   "outputs": [],
   "source": [
    "# get list of sites\n",
    "def getsites():\n",
    "    sites = [\n",
    "        (-94.21, 57.71), # BACK\n",
    "        (-111.11,58.77), # FCHP\n",
    "        (-94.08, 58.76), # FCHU\n",
    "        (-121.23, 61.76), # FSIM\n",
    "        (-111.95, 60.02), # FSMI\n",
    "        (-94.64, 56.38), # GILL\n",
    "        (-95.46, 52.04), # LGRR\n",
    "        (-111.21, 56.66), # MCMU\n",
    "        (-112.97, 53.35), # MSTK\n",
    "        (-126.69, 65.26), # NORM\n",
    "        (-114.21, 47.66), # POLS\n",
    "        (-103.68, 58.22), # RABB\n",
    "        (-96.36, 48.03), # THRF\n",
    "        (-112.98, 50.37), # VULC\n",
    "        (-103.8, 49.69), # WEYB\n",
    "        (-120.03, 51.88), # WGRY\n",
    "        (-96.01, 64.32), # BLC\n",
    "        (-99.97, 49.87), # BRD\n",
    "        (-105.03, 69.12), # CBB\n",
    "        (-94.09, 58.76), # FCC\n",
    "        (-68.52, 63.75), # IQA\n",
    "        (-113.35, 54.62), # MEA\n",
    "        (-75.55, 45.4), # OTT\n",
    "        (-94.89, 74.69), # RES\n",
    "        (-52.68, 47.6), # STJ\n",
    "        (-123.42, 48.52) # VIC\n",
    "    ]\n",
    "    return sites"
   ]
  },
  {
   "cell_type": "markdown",
   "metadata": {},
   "source": [
    "## Clean data"
   ]
  },
  {
   "cell_type": "code",
   "execution_count": null,
   "metadata": {},
   "outputs": [],
   "source": []
  },
  {
   "cell_type": "markdown",
   "metadata": {},
   "source": [
    "## Model Experiments"
   ]
  },
  {
   "cell_type": "markdown",
   "metadata": {},
   "source": [
    "### \"model you are trying\""
   ]
  },
  {
   "cell_type": "code",
   "execution_count": null,
   "metadata": {},
   "outputs": [],
   "source": [
    "# code here"
   ]
  },
  {
   "cell_type": "code",
   "execution_count": null,
   "metadata": {},
   "outputs": [],
   "source": [
    "# plot here"
   ]
  }
 ],
 "metadata": {
  "kernelspec": {
   "display_name": "Python 3",
   "language": "python",
   "name": "python3"
  },
  "language_info": {
   "codemirror_mode": {
    "name": "ipython",
    "version": 3
   },
   "file_extension": ".py",
   "mimetype": "text/x-python",
   "name": "python",
   "nbconvert_exporter": "python",
   "pygments_lexer": "ipython3",
   "version": "3.6.4"
  }
 },
 "nbformat": 4,
 "nbformat_minor": 2
}
